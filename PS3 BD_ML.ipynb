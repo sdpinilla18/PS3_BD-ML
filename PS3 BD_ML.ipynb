{
 "cells": [
  {
   "cell_type": "code",
   "execution_count": 61,
   "metadata": {},
   "outputs": [],
   "source": [
    "#Packages:\n",
    "import pandas as pd\n",
    "import numpy as np\n",
    "import pyreadr as pyr\n",
    "import sklearn as sk\n",
    "import matplotlib.pyplot as plt\n",
    "import scipy as sc\n",
    "import os"
   ]
  },
  {
   "cell_type": "code",
   "execution_count": 62,
   "metadata": {},
   "outputs": [
    {
     "name": "stdout",
     "output_type": "stream",
     "text": [
      "odict_keys([None])\n",
      "odict_keys([None])\n"
     ]
    }
   ],
   "source": [
    "#Set directory:\n",
    "os.chdir(\"C:/Users/CASA2002/Documents/Universidad de los Andes/Big Data/PS3/dataPS3\")\n",
    "tr=pyr.read_r(\"train.Rds\") \n",
    "tt=pyr.read_r(\"test.Rds\")\n",
    "print(tr.keys())\n",
    "print(tt.keys())\n",
    "df_tr=tr[None] #Train Data frame (Bogotá D.C. y Medellín). \n",
    "df_tt=tt[None] #Test Data frame (Cali). "
   ]
  },
  {
   "cell_type": "code",
   "execution_count": 63,
   "metadata": {},
   "outputs": [],
   "source": [
    "#Missing values count/share in train.\n",
    "df_tr.isnull().sum() \n",
    "df_tr.isnull().sum()/len(df_tr)\n",
    "df_tr.drop(\"rooms\", axis=1, inplace=True) #Correct bedrooms data."
   ]
  },
  {
   "cell_type": "code",
   "execution_count": null,
   "metadata": {},
   "outputs": [],
   "source": [
    "#Descriptive statistics:\n",
    "ds=(df_tr[[\"area\", \"bedrooms\", \"bathrooms\"]].describe(include=\"all\"))\n",
    "ds=ds.T\n",
    "ds=ds[[\"count\", \"mean\", \"std\", \"min\", \"50%\", \"max\"]]\n",
    "ds=ds.round(2)\n",
    "print(ds.to_latex())"
   ]
  }
 ],
 "metadata": {
  "kernelspec": {
   "display_name": "Python 3.9.12 ('base')",
   "language": "python",
   "name": "python3"
  },
  "language_info": {
   "codemirror_mode": {
    "name": "ipython",
    "version": 3
   },
   "file_extension": ".py",
   "mimetype": "text/x-python",
   "name": "python",
   "nbconvert_exporter": "python",
   "pygments_lexer": "ipython3",
   "version": "3.9.12"
  },
  "orig_nbformat": 4,
  "vscode": {
   "interpreter": {
    "hash": "add632f3b76bdf23581a950129667e09902b0ce3fd5f0a35a0a730ba62ef05bd"
   }
  }
 },
 "nbformat": 4,
 "nbformat_minor": 2
}
